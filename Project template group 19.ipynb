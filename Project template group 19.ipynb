{
 "cells": [
  {
   "cell_type": "markdown",
   "metadata": {},
   "source": [
    "# Project Group 19 \n",
    "\n",
    "Members: \n",
    "- Stijn Küppers\n",
    "- Erik Smit\n",
    "- Pim van Velzen\n",
    "- Sven Donders\n",
    "\n",
    "Student numbers: \n",
    "- 4726030\n",
    "- 4602358\n",
    "- 4594886\n",
    "- 4669932"
   ]
  },
  {
   "cell_type": "markdown",
   "metadata": {},
   "source": [
    "# Research Objective\n",
    "\n",
    "*Requires data modeling and quantitative research in Transport, Infrastructure & Logistics*"
   ]
  },
  {
   "cell_type": "markdown",
   "metadata": {},
   "source": [
    "'How do the recent increase in energy prices change people’s travelling behavior in the Netherlands?'"
   ]
  },
  {
   "cell_type": "markdown",
   "metadata": {},
   "source": [
    "# Contribution Statement\n",
    "\n",
    "*Be specific. Some of the tasks can be coding (expect everyone to do this), background research, conceptualisation, visualisation, data analysis, data modelling*"
   ]
  },
  {
   "cell_type": "markdown",
   "metadata": {},
   "source": [
    "Everybody will help with all the tasks during the assignment. \n",
    "After the approval of the research objective, we can specify this more.\n",
    "Coding will be done by the four of us. \n",
    "We all want to understand the model. \n",
    "We will split up the group sometimes to be more efficient. \n",
    "The background research will be done by two groupmembers while the other two are focussing on the begin of the conceptualisation.\n",
    "The visualisation and the data-analysis will be done by the members who are the most experienced with coding in Python.\n",
    "The other two groupmembers will focus more on the data analysis. \n",
    "In this way our time is spent more efficiently and we all know how the model will work."
   ]
  },
  {
   "cell_type": "markdown",
   "metadata": {},
   "source": [
    "# Data Used"
   ]
  },
  {
   "cell_type": "markdown",
   "metadata": {},
   "source": [
    "For the pump prices for motor fuels at petrol stations:\n",
    "https://opendata.cbs.nl/statline/portal.html?_la=en&_catalog=CBS&tableId=80416ENG&_theme=1127\n",
    "\n",
    "For the average distance travelled per trip, average time travelled per trip modes of travel and trip charateristics:\n",
    "https://opendata.cbs.nl/statline/portal.html?_la=en&_catalog=CBS&tableId=84711ENG&_theme=1159\n",
    "\n",
    "For a more specific place where the people goes to:\n",
    "https://www.google.com/covid19/mobility/\n",
    "\n",
    "For the distance travelled per trip, time travelled per trip trip characteristics, modes of travel and regions\n",
    "mobility of people:\n",
    "https://opendata.cbs.nl/statline/portal.html?_la=en&_catalog=CBS&tableId=85056ENG&_theme=1159"
   ]
  },
  {
   "cell_type": "markdown",
   "metadata": {},
   "source": [
    "# Data Pipeline"
   ]
  },
  {
   "cell_type": "markdown",
   "metadata": {},
   "source": []
  }
 ],
 "metadata": {
  "kernelspec": {
   "display_name": "Python 3 (ipykernel)",
   "language": "python",
   "name": "python3"
  },
  "language_info": {
   "codemirror_mode": {
    "name": "ipython",
    "version": 3
   },
   "file_extension": ".py",
   "mimetype": "text/x-python",
   "name": "python",
   "nbconvert_exporter": "python",
   "pygments_lexer": "ipython3",
   "version": "3.9.12"
  },
  "vscode": {
   "interpreter": {
    "hash": "31f2aee4e71d21fbe5cf8b01ff0e069b9275f58929596ceb00d14d90e3e16cd6"
   }
  }
 },
 "nbformat": 4,
 "nbformat_minor": 2
}
